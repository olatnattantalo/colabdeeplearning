{
  "nbformat": 4,
  "nbformat_minor": 0,
  "metadata": {
    "colab": {
      "name": "Deep Learning com Google Colab - 02.ipynb",
      "provenance": [],
      "collapsed_sections": [],
      "mount_file_id": "1xn6YnzjaVudk1znU8irn1GOHvrwwoGR3",
      "authorship_tag": "ABX9TyMmwVrPx0mPxC5Ww3R4OzhX",
      "include_colab_link": true
    },
    "kernelspec": {
      "name": "python3",
      "display_name": "Python 3"
    },
    "accelerator": "GPU"
  },
  "cells": [
    {
      "cell_type": "markdown",
      "metadata": {
        "id": "view-in-github",
        "colab_type": "text"
      },
      "source": [
        "<a href=\"https://colab.research.google.com/github/olatnattantalo/colabdeeplearning/blob/master/notebooks/Deep_Learning_com_Google_Colab_02.ipynb\" target=\"_parent\"><img src=\"https://colab.research.google.com/assets/colab-badge.svg\" alt=\"Open In Colab\"/></a>"
      ]
    },
    {
      "cell_type": "code",
      "metadata": {
        "id": "iK5pgCSNhuqX",
        "colab_type": "code",
        "colab": {}
      },
      "source": [
        "import torch"
      ],
      "execution_count": 0,
      "outputs": []
    },
    {
      "cell_type": "code",
      "metadata": {
        "id": "L1Jh4SOXiit0",
        "colab_type": "code",
        "outputId": "fd62d3b7-6b72-4890-b23e-b09bfd95a8df",
        "colab": {
          "base_uri": "https://localhost:8080/",
          "height": 34
        }
      },
      "source": [
        "x = torch.tensor([1, 2, 3])\n",
        "x"
      ],
      "execution_count": 0,
      "outputs": [
        {
          "output_type": "execute_result",
          "data": {
            "text/plain": [
              "tensor([1, 2, 3])"
            ]
          },
          "metadata": {
            "tags": []
          },
          "execution_count": 2
        }
      ]
    },
    {
      "cell_type": "code",
      "metadata": {
        "id": "t2nDDlwAjCB1",
        "colab_type": "code",
        "outputId": "a09495e3-0300-4a4b-aebc-042b3249625d",
        "colab": {
          "base_uri": "https://localhost:8080/",
          "height": 68
        }
      },
      "source": [
        "y = torch.tensor([\n",
        "    [2, 3, 4],\n",
        "    [5, 6, 7],\n",
        "    [9, 4, 5]\n",
        "])\n",
        "y"
      ],
      "execution_count": 0,
      "outputs": [
        {
          "output_type": "execute_result",
          "data": {
            "text/plain": [
              "tensor([[2, 3, 4],\n",
              "        [5, 6, 7],\n",
              "        [9, 4, 5]])"
            ]
          },
          "metadata": {
            "tags": []
          },
          "execution_count": 3
        }
      ]
    },
    {
      "cell_type": "code",
      "metadata": {
        "id": "xqZ6frX0kOb3",
        "colab_type": "code",
        "outputId": "6915a605-a2d9-45bb-f10c-c234b218a5e2",
        "colab": {
          "base_uri": "https://localhost:8080/",
          "height": 68
        }
      },
      "source": [
        "y = torch.tensor([\n",
        "    [2, 3, 4],\n",
        "    [5, 6, 7],\n",
        "    [9, 4, 5]\n",
        "], dtype=torch.float)\n",
        "y"
      ],
      "execution_count": 0,
      "outputs": [
        {
          "output_type": "execute_result",
          "data": {
            "text/plain": [
              "tensor([[2., 3., 4.],\n",
              "        [5., 6., 7.],\n",
              "        [9., 4., 5.]])"
            ]
          },
          "metadata": {
            "tags": []
          },
          "execution_count": 4
        }
      ]
    },
    {
      "cell_type": "code",
      "metadata": {
        "id": "m-OY25FBlDpp",
        "colab_type": "code",
        "outputId": "c83ad3de-89ad-4150-b47a-9d715a0eb382",
        "colab": {
          "base_uri": "https://localhost:8080/",
          "height": 34
        }
      },
      "source": [
        "torch.ones(1, 3, dtype=torch.int)"
      ],
      "execution_count": 0,
      "outputs": [
        {
          "output_type": "execute_result",
          "data": {
            "text/plain": [
              "tensor([[1, 1, 1]], dtype=torch.int32)"
            ]
          },
          "metadata": {
            "tags": []
          },
          "execution_count": 5
        }
      ]
    },
    {
      "cell_type": "code",
      "metadata": {
        "id": "07SqLyG0lzup",
        "colab_type": "code",
        "outputId": "4d45b838-6167-4106-f4a8-83af3179cbaf",
        "colab": {
          "base_uri": "https://localhost:8080/",
          "height": 306
        }
      },
      "source": [
        "torch.zeros(3, 5, 6, dtype=torch.float)"
      ],
      "execution_count": 0,
      "outputs": [
        {
          "output_type": "execute_result",
          "data": {
            "text/plain": [
              "tensor([[[0., 0., 0., 0., 0., 0.],\n",
              "         [0., 0., 0., 0., 0., 0.],\n",
              "         [0., 0., 0., 0., 0., 0.],\n",
              "         [0., 0., 0., 0., 0., 0.],\n",
              "         [0., 0., 0., 0., 0., 0.]],\n",
              "\n",
              "        [[0., 0., 0., 0., 0., 0.],\n",
              "         [0., 0., 0., 0., 0., 0.],\n",
              "         [0., 0., 0., 0., 0., 0.],\n",
              "         [0., 0., 0., 0., 0., 0.],\n",
              "         [0., 0., 0., 0., 0., 0.]],\n",
              "\n",
              "        [[0., 0., 0., 0., 0., 0.],\n",
              "         [0., 0., 0., 0., 0., 0.],\n",
              "         [0., 0., 0., 0., 0., 0.],\n",
              "         [0., 0., 0., 0., 0., 0.],\n",
              "         [0., 0., 0., 0., 0., 0.]]])"
            ]
          },
          "metadata": {
            "tags": []
          },
          "execution_count": 8
        }
      ]
    },
    {
      "cell_type": "code",
      "metadata": {
        "id": "VlpQFdLJl_Cy",
        "colab_type": "code",
        "outputId": "45895dea-9b0e-43e0-e8e7-26778115a94d",
        "colab": {
          "base_uri": "https://localhost:8080/",
          "height": 357
        }
      },
      "source": [
        "z = torch.rand(3, 6, 4, dtype=torch.float)\n",
        "z"
      ],
      "execution_count": 0,
      "outputs": [
        {
          "output_type": "execute_result",
          "data": {
            "text/plain": [
              "tensor([[[0.1758, 0.2281, 0.4236, 0.8793],\n",
              "         [0.7200, 0.5605, 0.8970, 0.7165],\n",
              "         [0.5325, 0.1454, 0.6946, 0.5141],\n",
              "         [0.7788, 0.8321, 0.5686, 0.6277],\n",
              "         [0.4132, 0.1475, 0.5982, 0.6447],\n",
              "         [0.1418, 0.9138, 0.9585, 0.0736]],\n",
              "\n",
              "        [[0.1893, 0.9223, 0.8233, 0.0360],\n",
              "         [0.3979, 0.8877, 0.8784, 0.6291],\n",
              "         [0.7715, 0.0753, 0.3255, 0.0027],\n",
              "         [0.2769, 0.4615, 0.2357, 0.3136],\n",
              "         [0.7649, 0.9247, 0.6387, 0.6298],\n",
              "         [0.7650, 0.8029, 0.6446, 0.2405]],\n",
              "\n",
              "        [[0.3312, 0.4323, 0.7742, 0.4266],\n",
              "         [0.2747, 0.0890, 0.5353, 0.1521],\n",
              "         [0.4740, 0.3612, 0.1902, 0.2432],\n",
              "         [0.7513, 0.4276, 0.8316, 0.1848],\n",
              "         [0.2167, 0.4922, 0.7055, 0.3975],\n",
              "         [0.0668, 0.7475, 0.6464, 0.3697]]])"
            ]
          },
          "metadata": {
            "tags": []
          },
          "execution_count": 9
        }
      ]
    },
    {
      "cell_type": "code",
      "metadata": {
        "id": "lVa-yn25m2xN",
        "colab_type": "code",
        "outputId": "5f1bd23d-1589-480b-c823-d8281b58dbb1",
        "colab": {
          "base_uri": "https://localhost:8080/",
          "height": 85
        }
      },
      "source": [
        "print(y)\n",
        "y[0]"
      ],
      "execution_count": 0,
      "outputs": [
        {
          "output_type": "stream",
          "text": [
            "tensor([[2., 3., 4.],\n",
            "        [5., 6., 7.],\n",
            "        [9., 4., 5.]])\n"
          ],
          "name": "stdout"
        },
        {
          "output_type": "execute_result",
          "data": {
            "text/plain": [
              "tensor([2., 3., 4.])"
            ]
          },
          "metadata": {
            "tags": []
          },
          "execution_count": 10
        }
      ]
    },
    {
      "cell_type": "code",
      "metadata": {
        "id": "C-o7vH5ynLt9",
        "colab_type": "code",
        "outputId": "a86e33b2-abbd-42ca-e205-5392ef0f5bac",
        "colab": {
          "base_uri": "https://localhost:8080/",
          "height": 34
        }
      },
      "source": [
        "y[:, 1]"
      ],
      "execution_count": 0,
      "outputs": [
        {
          "output_type": "execute_result",
          "data": {
            "text/plain": [
              "tensor([3., 6., 4.])"
            ]
          },
          "metadata": {
            "tags": []
          },
          "execution_count": 11
        }
      ]
    },
    {
      "cell_type": "code",
      "metadata": {
        "id": "QCEkdlZ8nfhF",
        "colab_type": "code",
        "outputId": "89b522d6-d3ed-4d71-9be7-77a258f8e099",
        "colab": {
          "base_uri": "https://localhost:8080/",
          "height": 34
        }
      },
      "source": [
        "z[2, :, 0]"
      ],
      "execution_count": 0,
      "outputs": [
        {
          "output_type": "execute_result",
          "data": {
            "text/plain": [
              "tensor([0.3312, 0.2747, 0.4740, 0.7513, 0.2167, 0.0668])"
            ]
          },
          "metadata": {
            "tags": []
          },
          "execution_count": 12
        }
      ]
    },
    {
      "cell_type": "code",
      "metadata": {
        "id": "4fGvfiN7n0YN",
        "colab_type": "code",
        "outputId": "93f39145-dbcf-4dde-ca4c-1c3e7fd40f88",
        "colab": {
          "base_uri": "https://localhost:8080/",
          "height": 34
        }
      },
      "source": [
        "y.size()"
      ],
      "execution_count": 0,
      "outputs": [
        {
          "output_type": "execute_result",
          "data": {
            "text/plain": [
              "torch.Size([3, 3])"
            ]
          },
          "metadata": {
            "tags": []
          },
          "execution_count": 13
        }
      ]
    },
    {
      "cell_type": "code",
      "metadata": {
        "id": "7F8SeO3DoZWN",
        "colab_type": "code",
        "outputId": "f0dad349-7611-4ccc-ac02-ab789b4b0b7c",
        "colab": {
          "base_uri": "https://localhost:8080/",
          "height": 34
        }
      },
      "source": [
        "y.size()[0]"
      ],
      "execution_count": 0,
      "outputs": [
        {
          "output_type": "execute_result",
          "data": {
            "text/plain": [
              "3"
            ]
          },
          "metadata": {
            "tags": []
          },
          "execution_count": 14
        }
      ]
    },
    {
      "cell_type": "code",
      "metadata": {
        "id": "3t77oc9PonzO",
        "colab_type": "code",
        "outputId": "0a25a57f-05ba-4513-eb6d-233c0f13b34f",
        "colab": {
          "base_uri": "https://localhost:8080/",
          "height": 68
        }
      },
      "source": [
        "t = torch.rand(3, 3)\n",
        "t"
      ],
      "execution_count": 0,
      "outputs": [
        {
          "output_type": "execute_result",
          "data": {
            "text/plain": [
              "tensor([[0.5535, 0.7661, 0.9992],\n",
              "        [0.6827, 0.2899, 0.0535],\n",
              "        [0.3584, 0.6536, 0.2869]])"
            ]
          },
          "metadata": {
            "tags": []
          },
          "execution_count": 15
        }
      ]
    },
    {
      "cell_type": "code",
      "metadata": {
        "id": "T_A2_hOMq0ps",
        "colab_type": "code",
        "outputId": "a6a34b49-b6e8-4778-9cc0-83442a7ae04b",
        "colab": {
          "base_uri": "https://localhost:8080/",
          "height": 68
        }
      },
      "source": [
        "y + t"
      ],
      "execution_count": 0,
      "outputs": [
        {
          "output_type": "execute_result",
          "data": {
            "text/plain": [
              "tensor([[2.5535, 3.7661, 4.9992],\n",
              "        [5.6827, 6.2899, 7.0535],\n",
              "        [9.3584, 4.6536, 5.2869]])"
            ]
          },
          "metadata": {
            "tags": []
          },
          "execution_count": 16
        }
      ]
    },
    {
      "cell_type": "code",
      "metadata": {
        "id": "g9tuRj5zq5qG",
        "colab_type": "code",
        "outputId": "a2d01a32-282c-4293-9294-71248020a90a",
        "colab": {
          "base_uri": "https://localhost:8080/",
          "height": 68
        }
      },
      "source": [
        "y * t"
      ],
      "execution_count": 0,
      "outputs": [
        {
          "output_type": "execute_result",
          "data": {
            "text/plain": [
              "tensor([[1.1070, 2.2984, 3.9967],\n",
              "        [3.4136, 1.7392, 0.3744],\n",
              "        [3.2252, 2.6143, 1.4347]])"
            ]
          },
          "metadata": {
            "tags": []
          },
          "execution_count": 17
        }
      ]
    },
    {
      "cell_type": "code",
      "metadata": {
        "id": "SI9TgbicrMT3",
        "colab_type": "code",
        "outputId": "2c93d0bd-bc64-48aa-b607-88c0ec90d735",
        "colab": {
          "base_uri": "https://localhost:8080/",
          "height": 68
        }
      },
      "source": [
        "y * 3"
      ],
      "execution_count": 0,
      "outputs": [
        {
          "output_type": "execute_result",
          "data": {
            "text/plain": [
              "tensor([[ 6.,  9., 12.],\n",
              "        [15., 18., 21.],\n",
              "        [27., 12., 15.]])"
            ]
          },
          "metadata": {
            "tags": []
          },
          "execution_count": 18
        }
      ]
    },
    {
      "cell_type": "code",
      "metadata": {
        "id": "cn8jCuKDrbWX",
        "colab_type": "code",
        "outputId": "1e3b367c-185f-4bf0-b942-f64cadb1163b",
        "colab": {
          "base_uri": "https://localhost:8080/",
          "height": 68
        }
      },
      "source": [
        "print(y)"
      ],
      "execution_count": 0,
      "outputs": [
        {
          "output_type": "stream",
          "text": [
            "tensor([[2., 3., 4.],\n",
            "        [5., 6., 7.],\n",
            "        [9., 4., 5.]])\n"
          ],
          "name": "stdout"
        }
      ]
    },
    {
      "cell_type": "code",
      "metadata": {
        "id": "Zw_s7XpbroXZ",
        "colab_type": "code",
        "outputId": "6aed6158-0c53-4f6e-e2d1-a31ba207e6cd",
        "colab": {
          "base_uri": "https://localhost:8080/",
          "height": 34
        }
      },
      "source": [
        "y.reshape(1, 9)"
      ],
      "execution_count": 0,
      "outputs": [
        {
          "output_type": "execute_result",
          "data": {
            "text/plain": [
              "tensor([[2., 3., 4., 5., 6., 7., 9., 4., 5.]])"
            ]
          },
          "metadata": {
            "tags": []
          },
          "execution_count": 21
        }
      ]
    },
    {
      "cell_type": "code",
      "metadata": {
        "id": "ScA0PWbKruxn",
        "colab_type": "code",
        "outputId": "ffca8b2f-7976-4e60-a0c0-e697d93ab218",
        "colab": {
          "base_uri": "https://localhost:8080/",
          "height": 34
        }
      },
      "source": [
        "y.reshape(-1,)"
      ],
      "execution_count": 0,
      "outputs": [
        {
          "output_type": "execute_result",
          "data": {
            "text/plain": [
              "tensor([2., 3., 4., 5., 6., 7., 9., 4., 5.])"
            ]
          },
          "metadata": {
            "tags": []
          },
          "execution_count": 23
        }
      ]
    },
    {
      "cell_type": "code",
      "metadata": {
        "id": "_wv_RBVIsELT",
        "colab_type": "code",
        "outputId": "b5dff8cb-667f-45cc-aa9c-546196595166",
        "colab": {
          "base_uri": "https://localhost:8080/",
          "height": 34
        }
      },
      "source": [
        "torch.squeeze(y.reshape(1, 9))"
      ],
      "execution_count": 0,
      "outputs": [
        {
          "output_type": "execute_result",
          "data": {
            "text/plain": [
              "tensor([2., 3., 4., 5., 6., 7., 9., 4., 5.])"
            ]
          },
          "metadata": {
            "tags": []
          },
          "execution_count": 24
        }
      ]
    },
    {
      "cell_type": "code",
      "metadata": {
        "id": "BfkNrY0VspDZ",
        "colab_type": "code",
        "outputId": "6833c98e-d6c1-4c35-b87e-ffdc2a8bfebd",
        "colab": {
          "base_uri": "https://localhost:8080/",
          "height": 34
        }
      },
      "source": [
        "y.sum()"
      ],
      "execution_count": 0,
      "outputs": [
        {
          "output_type": "execute_result",
          "data": {
            "text/plain": [
              "tensor(45.)"
            ]
          },
          "metadata": {
            "tags": []
          },
          "execution_count": 25
        }
      ]
    },
    {
      "cell_type": "code",
      "metadata": {
        "id": "z0je_Vzys4NK",
        "colab_type": "code",
        "outputId": "77da966f-86eb-4734-f546-913f812a2379",
        "colab": {
          "base_uri": "https://localhost:8080/",
          "height": 34
        }
      },
      "source": [
        "y.sum(0)"
      ],
      "execution_count": 0,
      "outputs": [
        {
          "output_type": "execute_result",
          "data": {
            "text/plain": [
              "tensor([16., 13., 16.])"
            ]
          },
          "metadata": {
            "tags": []
          },
          "execution_count": 26
        }
      ]
    },
    {
      "cell_type": "code",
      "metadata": {
        "id": "ra7_AzVds57M",
        "colab_type": "code",
        "outputId": "eda311d7-c8fa-4cce-ca0b-d1d30d02b117",
        "colab": {
          "base_uri": "https://localhost:8080/",
          "height": 34
        }
      },
      "source": [
        "torch.max(y)"
      ],
      "execution_count": 0,
      "outputs": [
        {
          "output_type": "execute_result",
          "data": {
            "text/plain": [
              "tensor(9.)"
            ]
          },
          "metadata": {
            "tags": []
          },
          "execution_count": 27
        }
      ]
    },
    {
      "cell_type": "code",
      "metadata": {
        "id": "SSMX_ANTtF0J",
        "colab_type": "code",
        "outputId": "e8826761-2418-44a8-a5b5-c53969939f9a",
        "colab": {
          "base_uri": "https://localhost:8080/",
          "height": 68
        }
      },
      "source": [
        "print(y)"
      ],
      "execution_count": 0,
      "outputs": [
        {
          "output_type": "stream",
          "text": [
            "tensor([[2., 3., 4.],\n",
            "        [5., 6., 7.],\n",
            "        [9., 4., 5.]])\n"
          ],
          "name": "stdout"
        }
      ]
    },
    {
      "cell_type": "code",
      "metadata": {
        "id": "VLF0fccqtKJZ",
        "colab_type": "code",
        "outputId": "279100d6-2e00-4f97-fba3-0c3f96f5d742",
        "colab": {
          "base_uri": "https://localhost:8080/",
          "height": 51
        }
      },
      "source": [
        "values, indices = torch.max(y, 0)\n",
        "print(values)\n",
        "print(indices)"
      ],
      "execution_count": 0,
      "outputs": [
        {
          "output_type": "stream",
          "text": [
            "tensor([9., 6., 7.])\n",
            "tensor([2, 1, 1])\n"
          ],
          "name": "stdout"
        }
      ]
    },
    {
      "cell_type": "code",
      "metadata": {
        "id": "qN3jAbpXwZHj",
        "colab_type": "code",
        "outputId": "8b13dab4-584b-4764-d425-335a26919883",
        "colab": {
          "base_uri": "https://localhost:8080/",
          "height": 34
        }
      },
      "source": [
        "y[0, 0].item()"
      ],
      "execution_count": 0,
      "outputs": [
        {
          "output_type": "execute_result",
          "data": {
            "text/plain": [
              "2.0"
            ]
          },
          "metadata": {
            "tags": []
          },
          "execution_count": 31
        }
      ]
    },
    {
      "cell_type": "code",
      "metadata": {
        "id": "FDyn_2b9tsu4",
        "colab_type": "code",
        "outputId": "d52a2a32-6e9b-4e8b-937b-219cec09772f",
        "colab": {
          "base_uri": "https://localhost:8080/",
          "height": 34
        }
      },
      "source": [
        "y[0, 0].item() == 1"
      ],
      "execution_count": 0,
      "outputs": [
        {
          "output_type": "execute_result",
          "data": {
            "text/plain": [
              "False"
            ]
          },
          "metadata": {
            "tags": []
          },
          "execution_count": 32
        }
      ]
    },
    {
      "cell_type": "code",
      "metadata": {
        "id": "gp_dd1lYwSpj",
        "colab_type": "code",
        "outputId": "0dc3f6e6-6a84-4741-adf5-e97420aa8f1b",
        "colab": {
          "base_uri": "https://localhost:8080/",
          "height": 34
        }
      },
      "source": [
        "y[0, 0] == 2"
      ],
      "execution_count": 0,
      "outputs": [
        {
          "output_type": "execute_result",
          "data": {
            "text/plain": [
              "tensor(True)"
            ]
          },
          "metadata": {
            "tags": []
          },
          "execution_count": 34
        }
      ]
    },
    {
      "cell_type": "code",
      "metadata": {
        "id": "I0I2JxKwwlKJ",
        "colab_type": "code",
        "outputId": "6f6b5691-786a-4e13-fa18-a32f448e3217",
        "colab": {
          "base_uri": "https://localhost:8080/",
          "height": 68
        }
      },
      "source": [
        "y.numpy()"
      ],
      "execution_count": 0,
      "outputs": [
        {
          "output_type": "execute_result",
          "data": {
            "text/plain": [
              "array([[2., 3., 4.],\n",
              "       [5., 6., 7.],\n",
              "       [9., 4., 5.]], dtype=float32)"
            ]
          },
          "metadata": {
            "tags": []
          },
          "execution_count": 35
        }
      ]
    },
    {
      "cell_type": "code",
      "metadata": {
        "id": "Hba1W3jBxN9p",
        "colab_type": "code",
        "outputId": "9b3c38b6-c509-4c53-81d8-ecc87150bed8",
        "colab": {
          "base_uri": "https://localhost:8080/",
          "height": 51
        }
      },
      "source": [
        "import numpy as np\n",
        "\n",
        "a = np.array([[2, 5], [6, 4]])\n",
        "b = torch.from_numpy(a)\n",
        "print(b)"
      ],
      "execution_count": 0,
      "outputs": [
        {
          "output_type": "stream",
          "text": [
            "tensor([[2, 5],\n",
            "        [6, 4]])\n"
          ],
          "name": "stdout"
        }
      ]
    },
    {
      "cell_type": "code",
      "metadata": {
        "id": "yT-LKIqCx_qG",
        "colab_type": "code",
        "outputId": "0370a0ca-151b-4a81-8bb0-6b6ccd5f4f77",
        "colab": {
          "base_uri": "https://localhost:8080/",
          "height": 51
        }
      },
      "source": [
        "a[0, 0] = 2\n",
        "a"
      ],
      "execution_count": 0,
      "outputs": [
        {
          "output_type": "execute_result",
          "data": {
            "text/plain": [
              "array([[2, 5],\n",
              "       [6, 4]])"
            ]
          },
          "metadata": {
            "tags": []
          },
          "execution_count": 39
        }
      ]
    },
    {
      "cell_type": "code",
      "metadata": {
        "id": "WGpA0eXZyXjF",
        "colab_type": "code",
        "outputId": "50cc6f32-bb0b-4f0f-9023-2320a90289be",
        "colab": {
          "base_uri": "https://localhost:8080/",
          "height": 51
        }
      },
      "source": [
        "b"
      ],
      "execution_count": 0,
      "outputs": [
        {
          "output_type": "execute_result",
          "data": {
            "text/plain": [
              "tensor([[2, 5],\n",
              "        [6, 4]])"
            ]
          },
          "metadata": {
            "tags": []
          },
          "execution_count": 40
        }
      ]
    },
    {
      "cell_type": "code",
      "metadata": {
        "id": "HlSNbVH8yn7G",
        "colab_type": "code",
        "colab": {}
      },
      "source": [
        ""
      ],
      "execution_count": 0,
      "outputs": []
    }
  ]
}