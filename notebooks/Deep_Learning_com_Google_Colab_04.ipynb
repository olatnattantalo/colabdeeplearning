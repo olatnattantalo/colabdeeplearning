{
  "nbformat": 4,
  "nbformat_minor": 0,
  "metadata": {
    "colab": {
      "name": "Deep Learning com Google Colab - 04.ipynb",
      "provenance": [],
      "collapsed_sections": [],
      "mount_file_id": "19q9CtcuSu5yjIH9uau6lhWeDK6MkVjAr",
      "authorship_tag": "ABX9TyPCaLVZUK7z3jWJ9Tjdfnkr",
      "include_colab_link": true
    },
    "kernelspec": {
      "name": "python3",
      "display_name": "Python 3"
    }
  },
  "cells": [
    {
      "cell_type": "markdown",
      "metadata": {
        "id": "view-in-github",
        "colab_type": "text"
      },
      "source": [
        "<a href=\"https://colab.research.google.com/github/olatnattantalo/colabdeeplearning/blob/master/notebooks/Deep_Learning_com_Google_Colab_04.ipynb\" target=\"_parent\"><img src=\"https://colab.research.google.com/assets/colab-badge.svg\" alt=\"Open In Colab\"/></a>"
      ]
    },
    {
      "cell_type": "code",
      "metadata": {
        "id": "BzC_LbiwC1t6",
        "colab_type": "code",
        "colab": {}
      },
      "source": [
        "import torch"
      ],
      "execution_count": 0,
      "outputs": []
    },
    {
      "cell_type": "code",
      "metadata": {
        "id": "2o1gn9Xn9U-e",
        "colab_type": "code",
        "colab": {}
      },
      "source": [
        "w = torch.tensor([1], dtype=torch.float, requires_grad=True)"
      ],
      "execution_count": 0,
      "outputs": []
    },
    {
      "cell_type": "code",
      "metadata": {
        "id": "poBdKxt294xd",
        "colab_type": "code",
        "colab": {}
      },
      "source": [
        "def forward(x):\n",
        "    return x * w\n",
        "\n",
        "def loss(x, y):\n",
        "    y_pred = forward(x)\n",
        "    return (y_pred - y) ** 2"
      ],
      "execution_count": 0,
      "outputs": []
    },
    {
      "cell_type": "code",
      "metadata": {
        "id": "ue221gC3E_im",
        "colab_type": "code",
        "outputId": "ac22345c-4ddc-4ff1-b7fc-88413088cf5f",
        "colab": {
          "base_uri": "https://localhost:8080/",
          "height": 34
        }
      },
      "source": [
        "print(f'Predição para 1: {forward(1).data[0]}')"
      ],
      "execution_count": 0,
      "outputs": [
        {
          "output_type": "stream",
          "text": [
            "Predição para 1: 1.0\n"
          ],
          "name": "stdout"
        }
      ]
    },
    {
      "cell_type": "code",
      "metadata": {
        "id": "1tcOaj3bFl-K",
        "colab_type": "code",
        "outputId": "464ecb9d-937c-4692-b90c-5c4af2c7b76e",
        "colab": {
          "base_uri": "https://localhost:8080/",
          "height": 51
        }
      },
      "source": [
        "my_loss = loss(1, 2)\n",
        "print(my_loss)\n",
        "\n",
        "my_loss.backward()\n",
        "print(f'Gradient: 1, 2, {w.grad.data[0]}')"
      ],
      "execution_count": 0,
      "outputs": [
        {
          "output_type": "stream",
          "text": [
            "tensor([1.], grad_fn=<PowBackward0>)\n",
            "Gradient: 1, 2, -2.0\n"
          ],
          "name": "stdout"
        }
      ]
    },
    {
      "cell_type": "code",
      "metadata": {
        "id": "wq3UbM7mGpx1",
        "colab_type": "code",
        "outputId": "1236e3f9-d10b-4eae-f3d2-668d732ef037",
        "colab": {
          "base_uri": "https://localhost:8080/",
          "height": 34
        }
      },
      "source": [
        "w.data = w.data - 0.1 * w.grad.data\n",
        "w.grad.data.zero_()\n",
        "\n",
        "print(w)"
      ],
      "execution_count": 0,
      "outputs": [
        {
          "output_type": "stream",
          "text": [
            "tensor([1.2000], requires_grad=True)\n"
          ],
          "name": "stdout"
        }
      ]
    },
    {
      "cell_type": "code",
      "metadata": {
        "id": "dJWlcTqgHF8j",
        "colab_type": "code",
        "colab": {}
      },
      "source": [
        ""
      ],
      "execution_count": 0,
      "outputs": []
    }
  ]
}