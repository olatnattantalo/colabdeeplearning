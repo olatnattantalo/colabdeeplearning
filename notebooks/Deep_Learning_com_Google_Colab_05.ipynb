{
  "nbformat": 4,
  "nbformat_minor": 0,
  "metadata": {
    "colab": {
      "name": "Deep Learning com Google Colab - 05.ipynb",
      "provenance": [],
      "collapsed_sections": [],
      "mount_file_id": "1NN35Vik4mfFowqCF7v1ViIJXqNUqnzqr",
      "authorship_tag": "ABX9TyPyAES28wkwlFk9S7G2R36K",
      "include_colab_link": true
    },
    "kernelspec": {
      "name": "python3",
      "display_name": "Python 3"
    },
    "accelerator": "GPU"
  },
  "cells": [
    {
      "cell_type": "markdown",
      "metadata": {
        "id": "view-in-github",
        "colab_type": "text"
      },
      "source": [
        "<a href=\"https://colab.research.google.com/github/olatnattantalo/colabdeeplearning/blob/master/notebooks/Deep_Learning_com_Google_Colab_05.ipynb\" target=\"_parent\"><img src=\"https://colab.research.google.com/assets/colab-badge.svg\" alt=\"Open In Colab\"/></a>"
      ]
    },
    {
      "cell_type": "code",
      "metadata": {
        "id": "KeV6OoPwIW-e",
        "colab_type": "code",
        "colab": {}
      },
      "source": [
        "import torch; torch.manual_seed(0)\n",
        "import matplotlib.pyplot as plt"
      ],
      "execution_count": 0,
      "outputs": []
    },
    {
      "cell_type": "code",
      "metadata": {
        "id": "xacGAJDLI-U9",
        "colab_type": "code",
        "outputId": "93b7c252-6108-4643-f6a2-f45d690c477a",
        "colab": {
          "base_uri": "https://localhost:8080/",
          "height": 269
        }
      },
      "source": [
        "# Geração de dados e visualização.\n",
        "x = torch.rand(1000, 1)\n",
        "y = 2 * x +  0.1 * torch.rand(x.size())\n",
        "\n",
        "plt.scatter(x.data.numpy(), y.data.numpy())\n",
        "plt.xlim(0, 1)\n",
        "plt.ylim(0, 2)\n",
        "plt.show()"
      ],
      "execution_count": 0,
      "outputs": [
        {
          "output_type": "display_data",
          "data": {
            "image/png": "[encoded data removed]",
            "text/plain": [
              "<Figure size 432x288 with 1 Axes>"
            ]
          },
          "metadata": {
            "tags": []
          }
        }
      ]
    },
    {
      "cell_type": "code",
      "metadata": {
        "id": "s9Zo70OyKJgs",
        "colab_type": "code",
        "colab": {}
      },
      "source": [
        "# Estrutura da rede neural.\n",
        "class MyNNet(torch.nn.Module):\n",
        "    def __init__(self, n_hidden):\n",
        "        super(MyNNet, self).__init__()\n",
        "        self.hidden = torch.nn.Linear(1, n_hidden) #uma simples camada de entrada.\n",
        "        self.relu = torch.nn.ReLU() #ativação da função.\n",
        "        self.output = torch.nn.Linear(n_hidden, 1) #saída da camada.\n",
        "\n",
        "    def forward(self, x):\n",
        "        out = self.hidden(x)\n",
        "        out = self.relu(out)\n",
        "        out = self.output(out)\n",
        "        return out"
      ],
      "execution_count": 0,
      "outputs": []
    },
    {
      "cell_type": "code",
      "metadata": {
        "id": "bI4jC69oOb2T",
        "colab_type": "code",
        "colab": {}
      },
      "source": [
        "# Setando o modelo e treinando os componentes.\n",
        "n_epoch = 10 #rodadas de aprendizado.\n",
        "learning_rate = 0.001\n",
        "\n",
        "model = MyNNet(10)\n",
        "optimizer = torch.optim.SGD(model.parameters(), lr=learning_rate) #ajustando os parametros.\n",
        "loss_func = torch.nn.MSELoss() #calculando as perdas."
      ],
      "execution_count": 0,
      "outputs": []
    },
    {
      "cell_type": "code",
      "metadata": {
        "id": "JEQvbPc_QMgh",
        "colab_type": "code",
        "outputId": "7a3cc759-df55-4d4a-e150-cb48876fde4e",
        "colab": {
          "base_uri": "https://localhost:8080/",
          "height": 187
        }
      },
      "source": [
        "for epoch in range(n_epoch):\n",
        "    for i in range(x.size()[0]):\n",
        "        y_pred = model(x[i]) #forward pass.\n",
        "        loss = loss_func(y_pred, y[i])\n",
        "\n",
        "        optimizer.zero_grad() #limpe gradientes para o próximo passo.\n",
        "        loss.backward()       #backward pass (passe para trás).\n",
        "        optimizer.step()      #ajustar parâmetros.\n",
        "\n",
        "    print(f'Epoch {epoch + 1}. Perda: {loss.item():.4f}')"
      ],
      "execution_count": 0,
      "outputs": [
        {
          "output_type": "stream",
          "text": [
            "Epoch 1. Perda: 0.0170\n",
            "Epoch 2. Perda: 0.0061\n",
            "Epoch 3. Perda: 0.0012\n",
            "Epoch 4. Perda: 0.0001\n",
            "Epoch 5. Perda: 0.0001\n",
            "Epoch 6. Perda: 0.0006\n",
            "Epoch 7. Perda: 0.0012\n",
            "Epoch 8. Perda: 0.0018\n",
            "Epoch 9. Perda: 0.0022\n",
            "Epoch 10. Perda: 0.0025\n"
          ],
          "name": "stdout"
        }
      ]
    },
    {
      "cell_type": "code",
      "metadata": {
        "id": "U6bGaavYTrzg",
        "colab_type": "code",
        "outputId": "4e795d95-9db0-4606-bfb5-da4855ccd8ff",
        "colab": {
          "base_uri": "https://localhost:8080/",
          "height": 269
        }
      },
      "source": [
        "x_test = torch.rand(50, 1)\n",
        "y_pred = []\n",
        "with torch.no_grad():\n",
        "    for i in range(x_test.size()[0]):\n",
        "\t    y_pred.append(model(x_test[i]).item())\n",
        "\n",
        "plt.scatter(x_test.data.numpy(), y_pred)\n",
        "plt.xlim(0, 1)\n",
        "plt.ylim(0, 2)\n",
        "plt.show()"
      ],
      "execution_count": 0,
      "outputs": [
        {
          "output_type": "display_data",
          "data": {
            "image/png": "[encoded data removed]",
            "text/plain": [
              "<Figure size 432x288 with 1 Axes>"
            ]
          },
          "metadata": {
            "tags": []
          }
        }
      ]
    },
    {
      "cell_type": "code",
      "metadata": {
        "id": "JO0KAJi7WDi_",
        "colab_type": "code",
        "outputId": "06f25428-744c-43c3-bfbf-761c7d9d9164",
        "colab": {
          "base_uri": "https://localhost:8080/",
          "height": 408
        }
      },
      "source": [
        "for param_tensor in model.state_dict():\n",
        "    print(param_tensor)\n",
        "    print(model.state_dict()[param_tensor])\n",
        "    print()"
      ],
      "execution_count": 0,
      "outputs": [
        {
          "output_type": "stream",
          "text": [
            "hidden.weight\n",
            "tensor([[ 0.5547],\n",
            "        [ 0.1284],\n",
            "        [ 0.1526],\n",
            "        [ 0.6374],\n",
            "        [ 1.0640],\n",
            "        [-0.4040],\n",
            "        [-0.1096],\n",
            "        [ 0.5825],\n",
            "        [-0.4846],\n",
            "        [ 1.3240]])\n",
            "\n",
            "hidden.bias\n",
            "tensor([-0.6850,  0.4552, -0.7183,  0.1971,  0.4783,  0.1762, -0.1002,  0.5312,\n",
            "        -0.7180, -0.2322])\n",
            "\n",
            "output.weight\n",
            "tensor([[-0.2695, -0.1310,  0.0082,  0.3098,  0.7014, -0.1078,  0.2632,  0.2117,\n",
            "         -0.0865,  0.7219]])\n",
            "\n",
            "output.bias\n",
            "tensor([-0.2447])\n",
            "\n"
          ],
          "name": "stdout"
        }
      ]
    },
    {
      "cell_type": "code",
      "metadata": {
        "id": "-Lk4-W2Glw34",
        "colab_type": "code",
        "colab": {}
      },
      "source": [
        "torch.save(model.state_dict(), '/content/drive/My Drive/simples.pth')"
      ],
      "execution_count": 0,
      "outputs": []
    },
    {
      "cell_type": "code",
      "metadata": {
        "id": "vBOdhBclnbUs",
        "colab_type": "code",
        "outputId": "8c6da083-0d7d-4058-d468-1290923fa6fc",
        "colab": {
          "base_uri": "https://localhost:8080/",
          "height": 102
        }
      },
      "source": [
        "model = MyNNet(10)\n",
        "model.load_state_dict(torch.load('/content/drive/My Drive/simples.pth'))\n",
        "model.eval()"
      ],
      "execution_count": 0,
      "outputs": [
        {
          "output_type": "execute_result",
          "data": {
            "text/plain": [
              "MyNNet(\n",
              "  (hidden): Linear(in_features=1, out_features=10, bias=True)\n",
              "  (relu): ReLU()\n",
              "  (output): Linear(in_features=10, out_features=1, bias=True)\n",
              ")"
            ]
          },
          "metadata": {
            "tags": []
          },
          "execution_count": 12
        }
      ]
    },
    {
      "cell_type": "code",
      "metadata": {
        "id": "dpHr9Hlfo7Qd",
        "colab_type": "code",
        "outputId": "65532739-1ac8-4535-8689-d4bcba4f4ef8",
        "colab": {
          "base_uri": "https://localhost:8080/",
          "height": 269
        }
      },
      "source": [
        "x_test = torch.rand(50, 1)\n",
        "y_pred = []\n",
        "with torch.no_grad():\n",
        "    for i in range(x_test.size()[0]):\n",
        "\t    y_pred.append(model(x_test[i]).item())\n",
        "\n",
        "plt.scatter(x_test.data.numpy(), y_pred)\n",
        "plt.xlim(0, 1)\n",
        "plt.ylim(0, 2)\n",
        "plt.show()"
      ],
      "execution_count": 0,
      "outputs": [
        {
          "output_type": "display_data",
          "data": {
            "image/png": "[encoded data removed]",
            "text/plain": [
              "<Figure size 432x288 with 1 Axes>"
            ]
          },
          "metadata": {
            "tags": []
          }
        }
      ]
    },
    {
      "cell_type": "code",
      "metadata": {
        "id": "iF-whIr7padM",
        "colab_type": "code",
        "colab": {}
      },
      "source": [
        "# Setando o modelo e treinando os componentes.\n",
        "n_epoch = 15 #rodadas de aprendizado.\n",
        "learning_rate = 0.001\n",
        "\n",
        "model = MyNNet(15)\n",
        "optimizer = torch.optim.SGD(model.parameters(), lr=learning_rate) #ajustando os parametros.\n",
        "loss_func = torch.nn.MSELoss() #calculando as perdas."
      ],
      "execution_count": 0,
      "outputs": []
    },
    {
      "cell_type": "code",
      "metadata": {
        "id": "6xC5tBdFp3SW",
        "colab_type": "code",
        "outputId": "2655d8d8-404a-441a-d81a-97c5b43f5a0d",
        "colab": {
          "base_uri": "https://localhost:8080/",
          "height": 187
        }
      },
      "source": [
        "for epoch in range(n_epoch):\n",
        "    if epoch == 10:\n",
        "        break\n",
        "        \n",
        "    for i in range(x.size()[0]):\n",
        "        y_pred = model(x[i]) #forward pass.\n",
        "        loss = loss_func(y_pred, y[i])\n",
        "\n",
        "        optimizer.zero_grad() #limpe gradientes para o próximo passo.\n",
        "        loss.backward()       #backward pass (passe para trás).\n",
        "        optimizer.step()      #ajustar parâmetros.\n",
        "\n",
        "    print(f'Epoch {epoch + 1}. Perda: {loss.item():.4f}')"
      ],
      "execution_count": 0,
      "outputs": [
        {
          "output_type": "stream",
          "text": [
            "Epoch 1. Perda: 0.0123\n",
            "Epoch 2. Perda: 0.0021\n",
            "Epoch 3. Perda: 0.0000\n",
            "Epoch 4. Perda: 0.0006\n",
            "Epoch 5. Perda: 0.0014\n",
            "Epoch 6. Perda: 0.0020\n",
            "Epoch 7. Perda: 0.0023\n",
            "Epoch 8. Perda: 0.0025\n",
            "Epoch 9. Perda: 0.0026\n",
            "Epoch 10. Perda: 0.0026\n"
          ],
          "name": "stdout"
        }
      ]
    },
    {
      "cell_type": "code",
      "metadata": {
        "id": "Em3sZt3oq1wF",
        "colab_type": "code",
        "colab": {}
      },
      "source": [
        "torch.save({\n",
        "    'epoch': epoch,\n",
        "    'model_state_dict': model.state_dict(),\n",
        "    'optimizer_state_dict': optimizer.state_dict(),\n",
        "    'loss': loss\n",
        "}, '/content/drive/My Drive/simples_v2.tar')"
      ],
      "execution_count": 0,
      "outputs": []
    },
    {
      "cell_type": "code",
      "metadata": {
        "id": "LYH8CtWasnXe",
        "colab_type": "code",
        "outputId": "5207eec7-3b80-4537-8bb6-e8574ac31bcb",
        "colab": {
          "base_uri": "https://localhost:8080/",
          "height": 51
        }
      },
      "source": [
        "# carregar o checkpoint.\n",
        "model = MyNNet(15)\n",
        "optimizer = torch.optim.SGD(model.parameters(), lr=learning_rate) #ajustando os parametros.\n",
        "\n",
        "checkpoint = torch.load('/content/drive/My Drive/simples_v2.tar')\n",
        "model.load_state_dict(checkpoint['model_state_dict'])\n",
        "optimizer.load_state_dict(checkpoint['optimizer_state_dict'])\n",
        "temp_epoch = checkpoint['epoch'] \n",
        "loss = checkpoint['loss']\n",
        "\n",
        "print(temp_epoch)\n",
        "print(loss)"
      ],
      "execution_count": 0,
      "outputs": [
        {
          "output_type": "stream",
          "text": [
            "10\n",
            "tensor(0.0026, requires_grad=True)\n"
          ],
          "name": "stdout"
        }
      ]
    },
    {
      "cell_type": "code",
      "metadata": {
        "id": "1vnhSBRPw9gx",
        "colab_type": "code",
        "colab": {}
      },
      "source": [
        "n_epoch = 30"
      ],
      "execution_count": 0,
      "outputs": []
    },
    {
      "cell_type": "code",
      "metadata": {
        "id": "ER-K4hXuvLva",
        "colab_type": "code",
        "outputId": "f868b1e2-743c-44c0-e9ae-044030faa63f",
        "colab": {
          "base_uri": "https://localhost:8080/",
          "height": 357
        }
      },
      "source": [
        "# continue treinando o modelo.\n",
        "model.train()\n",
        "for epoch in range(temp_epoch, n_epoch):\n",
        "    for i in range(x.size()[0]):\n",
        "        y_pred = model(x[i]) #forward pass.\n",
        "        loss = loss_func(y_pred, y[i])\n",
        "\n",
        "        optimizer.zero_grad() #limpe gradientes para o próximo passo.\n",
        "        loss.backward()       #backward pass (passe para trás).\n",
        "        optimizer.step()      #ajustar parâmetros.\n",
        "\n",
        "    print(f'Epoch {epoch + 1}. Perda: {loss.item():.4f}')"
      ],
      "execution_count": 0,
      "outputs": [
        {
          "output_type": "stream",
          "text": [
            "Epoch 11. Perda: 0.0026\n",
            "Epoch 12. Perda: 0.0026\n",
            "Epoch 13. Perda: 0.0026\n",
            "Epoch 14. Perda: 0.0026\n",
            "Epoch 15. Perda: 0.0025\n",
            "Epoch 16. Perda: 0.0025\n",
            "Epoch 17. Perda: 0.0025\n",
            "Epoch 18. Perda: 0.0025\n",
            "Epoch 19. Perda: 0.0025\n",
            "Epoch 20. Perda: 0.0025\n",
            "Epoch 21. Perda: 0.0025\n",
            "Epoch 22. Perda: 0.0025\n",
            "Epoch 23. Perda: 0.0024\n",
            "Epoch 24. Perda: 0.0024\n",
            "Epoch 25. Perda: 0.0024\n",
            "Epoch 26. Perda: 0.0024\n",
            "Epoch 27. Perda: 0.0024\n",
            "Epoch 28. Perda: 0.0024\n",
            "Epoch 29. Perda: 0.0024\n",
            "Epoch 30. Perda: 0.0024\n"
          ],
          "name": "stdout"
        }
      ]
    },
    {
      "cell_type": "code",
      "metadata": {
        "id": "nVg_7vbMwx5x",
        "colab_type": "code",
        "colab": {}
      },
      "source": [
        ""
      ],
      "execution_count": 0,
      "outputs": []
    }
  ]
}